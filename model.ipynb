{
 "cells": [
  {
   "cell_type": "code",
   "execution_count": 7,
   "id": "1e2b78a5-bfc4-45d4-b0aa-f57abe4df465",
   "metadata": {},
   "outputs": [],
   "source": [
    "import pandas as pd\n",
    "import numpy as np \n",
    "from zipfile import ZipFile\n",
    "import seaborn as sns\n",
    "import matplotlib.pyplot as plt\n",
    "from nltk.corpus import stopwords\n",
    "\n",
    "import sklearn \n",
    "from sklearn.decomposition import PCA, TruncatedSVD\n",
    "from sklearn.model_selection import train_test_split, StratifiedShuffleSplit\n",
    "from sklearn.naive_bayes import MultinomialNB\n",
    "from sklearn.feature_extraction.text import CountVectorizer\n",
    "from sklearn.feature_extraction.text import TfidfTransformer\n",
    "from sklearn.pipeline import Pipeline "
   ]
  },
  {
   "cell_type": "code",
   "execution_count": 2,
   "id": "fb463e26-0055-4ff1-b508-433e0619631c",
   "metadata": {},
   "outputs": [],
   "source": [
    "sns.set_theme(context = 'notebook', style = 'darkgrid')"
   ]
  },
  {
   "cell_type": "code",
   "execution_count": 3,
   "id": "79b4ea88-8719-4dcd-8f5e-157027002c7a",
   "metadata": {},
   "outputs": [],
   "source": [
    "df = pd.read_csv(ZipFile(\"data/GoodReads_100k_books.csv.zip\").open('GoodReads_100k_books.csv'))"
   ]
  },
  {
   "cell_type": "code",
   "execution_count": 4,
   "id": "ffffe81a-5558-4088-9a0d-6b9d901453ad",
   "metadata": {},
   "outputs": [
    {
     "data": {
      "text/html": [
       "<div>\n",
       "<style scoped>\n",
       "    .dataframe tbody tr th:only-of-type {\n",
       "        vertical-align: middle;\n",
       "    }\n",
       "\n",
       "    .dataframe tbody tr th {\n",
       "        vertical-align: top;\n",
       "    }\n",
       "\n",
       "    .dataframe thead th {\n",
       "        text-align: right;\n",
       "    }\n",
       "</style>\n",
       "<table border=\"1\" class=\"dataframe\">\n",
       "  <thead>\n",
       "    <tr style=\"text-align: right;\">\n",
       "      <th></th>\n",
       "      <th>author</th>\n",
       "      <th>bookformat</th>\n",
       "      <th>desc</th>\n",
       "      <th>genre</th>\n",
       "      <th>img</th>\n",
       "      <th>isbn</th>\n",
       "      <th>isbn13</th>\n",
       "      <th>link</th>\n",
       "      <th>pages</th>\n",
       "      <th>rating</th>\n",
       "      <th>reviews</th>\n",
       "      <th>title</th>\n",
       "      <th>totalratings</th>\n",
       "    </tr>\n",
       "  </thead>\n",
       "  <tbody>\n",
       "    <tr>\n",
       "      <th>0</th>\n",
       "      <td>Laurence M. Hauptman</td>\n",
       "      <td>Hardcover</td>\n",
       "      <td>Reveals that several hundred thousand Indians ...</td>\n",
       "      <td>History,Military History,Civil War,American Hi...</td>\n",
       "      <td>https://i.gr-assets.com/images/S/compressed.ph...</td>\n",
       "      <td>002914180X</td>\n",
       "      <td>9.78E+12</td>\n",
       "      <td>https://goodreads.com/book/show/1001053.Betwee...</td>\n",
       "      <td>0</td>\n",
       "      <td>3.52</td>\n",
       "      <td>5</td>\n",
       "      <td>Between Two Fires: American Indians in the Civ...</td>\n",
       "      <td>33</td>\n",
       "    </tr>\n",
       "    <tr>\n",
       "      <th>1</th>\n",
       "      <td>Charlotte Fiell,Emmanuelle Dirix</td>\n",
       "      <td>Paperback</td>\n",
       "      <td>Fashion Sourcebook - 1920s is the first book i...</td>\n",
       "      <td>Couture,Fashion,Historical,Art,Nonfiction</td>\n",
       "      <td>https://i.gr-assets.com/images/S/compressed.ph...</td>\n",
       "      <td>1906863482</td>\n",
       "      <td>9.78E+12</td>\n",
       "      <td>https://goodreads.com/book/show/10010552-fashi...</td>\n",
       "      <td>576</td>\n",
       "      <td>4.51</td>\n",
       "      <td>6</td>\n",
       "      <td>Fashion Sourcebook 1920s</td>\n",
       "      <td>41</td>\n",
       "    </tr>\n",
       "    <tr>\n",
       "      <th>2</th>\n",
       "      <td>Andy Anderson</td>\n",
       "      <td>Paperback</td>\n",
       "      <td>The seminal history and analysis of the Hungar...</td>\n",
       "      <td>Politics,History</td>\n",
       "      <td>https://i.gr-assets.com/images/S/compressed.ph...</td>\n",
       "      <td>948984147</td>\n",
       "      <td>9.78E+12</td>\n",
       "      <td>https://goodreads.com/book/show/1001077.Hungar...</td>\n",
       "      <td>124</td>\n",
       "      <td>4.15</td>\n",
       "      <td>2</td>\n",
       "      <td>Hungary 56</td>\n",
       "      <td>26</td>\n",
       "    </tr>\n",
       "    <tr>\n",
       "      <th>3</th>\n",
       "      <td>Carlotta R. Anderson</td>\n",
       "      <td>Hardcover</td>\n",
       "      <td>\"All-American Anarchist\" chronicles the life a...</td>\n",
       "      <td>Labor,History</td>\n",
       "      <td>https://i.gr-assets.com/images/S/compressed.ph...</td>\n",
       "      <td>814327079</td>\n",
       "      <td>9.78E+12</td>\n",
       "      <td>https://goodreads.com/book/show/1001079.All_Am...</td>\n",
       "      <td>324</td>\n",
       "      <td>3.83</td>\n",
       "      <td>1</td>\n",
       "      <td>All-American Anarchist: Joseph A. Labadie and ...</td>\n",
       "      <td>6</td>\n",
       "    </tr>\n",
       "    <tr>\n",
       "      <th>4</th>\n",
       "      <td>Jean Leveille</td>\n",
       "      <td>NaN</td>\n",
       "      <td>Aujourdâ€™hui, lâ€™oiseau nous invite Ã  sa ta...</td>\n",
       "      <td>NaN</td>\n",
       "      <td>https://i.gr-assets.com/images/S/compressed.ph...</td>\n",
       "      <td>2761920813</td>\n",
       "      <td>NaN</td>\n",
       "      <td>https://goodreads.com/book/show/10010880-les-o...</td>\n",
       "      <td>177</td>\n",
       "      <td>4.00</td>\n",
       "      <td>1</td>\n",
       "      <td>Les oiseaux gourmands</td>\n",
       "      <td>1</td>\n",
       "    </tr>\n",
       "  </tbody>\n",
       "</table>\n",
       "</div>"
      ],
      "text/plain": [
       "                             author bookformat  \\\n",
       "0              Laurence M. Hauptman  Hardcover   \n",
       "1  Charlotte Fiell,Emmanuelle Dirix  Paperback   \n",
       "2                     Andy Anderson  Paperback   \n",
       "3              Carlotta R. Anderson  Hardcover   \n",
       "4                     Jean Leveille        NaN   \n",
       "\n",
       "                                                desc  \\\n",
       "0  Reveals that several hundred thousand Indians ...   \n",
       "1  Fashion Sourcebook - 1920s is the first book i...   \n",
       "2  The seminal history and analysis of the Hungar...   \n",
       "3  \"All-American Anarchist\" chronicles the life a...   \n",
       "4  Aujourdâ€™hui, lâ€™oiseau nous invite Ã  sa ta...   \n",
       "\n",
       "                                               genre  \\\n",
       "0  History,Military History,Civil War,American Hi...   \n",
       "1          Couture,Fashion,Historical,Art,Nonfiction   \n",
       "2                                   Politics,History   \n",
       "3                                      Labor,History   \n",
       "4                                                NaN   \n",
       "\n",
       "                                                 img        isbn    isbn13  \\\n",
       "0  https://i.gr-assets.com/images/S/compressed.ph...  002914180X  9.78E+12   \n",
       "1  https://i.gr-assets.com/images/S/compressed.ph...  1906863482  9.78E+12   \n",
       "2  https://i.gr-assets.com/images/S/compressed.ph...   948984147  9.78E+12   \n",
       "3  https://i.gr-assets.com/images/S/compressed.ph...   814327079  9.78E+12   \n",
       "4  https://i.gr-assets.com/images/S/compressed.ph...  2761920813       NaN   \n",
       "\n",
       "                                                link  pages  rating  reviews  \\\n",
       "0  https://goodreads.com/book/show/1001053.Betwee...      0    3.52        5   \n",
       "1  https://goodreads.com/book/show/10010552-fashi...    576    4.51        6   \n",
       "2  https://goodreads.com/book/show/1001077.Hungar...    124    4.15        2   \n",
       "3  https://goodreads.com/book/show/1001079.All_Am...    324    3.83        1   \n",
       "4  https://goodreads.com/book/show/10010880-les-o...    177    4.00        1   \n",
       "\n",
       "                                               title  totalratings  \n",
       "0  Between Two Fires: American Indians in the Civ...            33  \n",
       "1                           Fashion Sourcebook 1920s            41  \n",
       "2                                         Hungary 56            26  \n",
       "3  All-American Anarchist: Joseph A. Labadie and ...             6  \n",
       "4                              Les oiseaux gourmands             1  "
      ]
     },
     "execution_count": 4,
     "metadata": {},
     "output_type": "execute_result"
    }
   ],
   "source": [
    "df.head()"
   ]
  },
  {
   "cell_type": "markdown",
   "id": "324082b6-2eb2-46ae-94e7-e752a9c65899",
   "metadata": {},
   "source": [
    "<h2>Prepare Data</h2>"
   ]
  },
  {
   "cell_type": "code",
   "execution_count": 5,
   "id": "b95a4cfa-d021-45c5-9d7f-d8deced1e58b",
   "metadata": {},
   "outputs": [],
   "source": [
    "df = df.dropna(subset = ['desc', 'genre'])"
   ]
  },
  {
   "cell_type": "code",
   "execution_count": 18,
   "id": "af5cf60f-601e-44f6-b0d4-0a94fff747de",
   "metadata": {},
   "outputs": [],
   "source": [
    "df['genres'] = df.genre.apply(lambda s: str(s).split(\",\"))"
   ]
  },
  {
   "cell_type": "code",
   "execution_count": 9,
   "id": "30262078-b89c-4ad9-b6cb-7b0fb8dde20f",
   "metadata": {},
   "outputs": [],
   "source": [
    "df['desc_cleaned'] = df.desc.str.lower()"
   ]
  },
  {
   "cell_type": "code",
   "execution_count": 32,
   "id": "7273c216-2d3d-4d5e-9e0e-922f27a2cafc",
   "metadata": {},
   "outputs": [
    {
     "data": {
      "text/plain": [
       "(9.369795870620576, 10.0)"
      ]
     },
     "execution_count": 32,
     "metadata": {},
     "output_type": "execute_result"
    }
   ],
   "source": [
    "df.genres.apply(len).mean(), df.genres.apply(len).median()"
   ]
  },
  {
   "cell_type": "code",
   "execution_count": 60,
   "id": "737321ee-f44a-4738-82fa-b683b38531f7",
   "metadata": {},
   "outputs": [
    {
     "data": {
      "text/plain": [
       "[Text(0.5, 1.0, 'Histogram of the Number of Categories Per Book'),\n",
       " Text(0.5, 0, 'Number of Categories'),\n",
       " Text(0, 0.5, 'Density')]"
      ]
     },
     "execution_count": 60,
     "metadata": {},
     "output_type": "execute_result"
    },
    {
     "data": {
      "image/png": "[encoded data removed]",
      "text/plain": [
       "<Figure size 640x480 with 1 Axes>"
      ]
     },
     "metadata": {},
     "output_type": "display_data"
    }
   ],
   "source": [
    "f = sns.histplot(df.genres.apply(len), stat = 'density', binwidth = 2)\n",
    "f.set(title = 'Histogram of the Number of Categories Per Book', xlabel = 'Number of Categories', \n",
    "      ylabel = 'Density')"
   ]
  },
  {
   "cell_type": "code",
   "execution_count": 31,
   "id": "81879135-d3f4-430f-9c42-69b603dad85c",
   "metadata": {},
   "outputs": [],
   "source": [
    "all_genres = df.explode(\"genres\")"
   ]
  },
  {
   "cell_type": "markdown",
   "id": "db0f7517-6d7d-4fa6-a89f-9a33a2a75781",
   "metadata": {},
   "source": [
    "<h3>See Distribution of Classes</h3>"
   ]
  },
  {
   "cell_type": "code",
   "execution_count": 58,
   "id": "50d4f043-92b2-4e32-a53e-5216832e9a92",
   "metadata": {},
   "outputs": [],
   "source": [
    "genre_counts = all_genres.genres.value_counts()"
   ]
  },
  {
   "cell_type": "code",
   "execution_count": 59,
   "id": "3f6630c4-6449-4029-9111-4388567448f1",
   "metadata": {},
   "outputs": [
    {
     "data": {
      "text/plain": [
       "(9149.82, 5874.5)"
      ]
     },
     "execution_count": 59,
     "metadata": {},
     "output_type": "execute_result"
    }
   ],
   "source": [
    "genre_counts.mean(), genre_counts.median()"
   ]
  },
  {
   "cell_type": "code",
   "execution_count": 39,
   "id": "7841f0aa-fdd4-46bc-bd23-aca8a6fc1ad0",
   "metadata": {},
   "outputs": [
    {
     "data": {
      "text/plain": [
       "[Text(0.5, 1.0, 'Log Distribution'), Text(0.5, 0, 'Log Number of Occurences')]"
      ]
     },
     "execution_count": 39,
     "metadata": {},
     "output_type": "execute_result"
    },
    {
     "data": {
      "image/png": "[encoded data removed]",
      "text/plain": [
       "<Figure size 640x480 with 2 Axes>"
      ]
     },
     "metadata": {},
     "output_type": "display_data"
    }
   ],
   "source": [
    "f, ax = plt.subplots(1, 2)\n",
    "plt.subplots_adjust(hspace = 0.5, wspace = 0.5)\n",
    "\n",
    "f1 = sns.histplot(genre_counts, stat = 'density', ax = ax[0])\n",
    "f2 = sns.histplot(np.log(genre_counts), stat = 'density', ax = ax[1])\n",
    "\n",
    "f.suptitle('Distribution of The Number of Times Genres Occur in Dataset')\n",
    "f1.set(title = 'Distribution', xlabel = 'Number of Occurences')\n",
    "f2.set(title = 'Log Distribution', xlabel = 'Log Number of Occurences')"
   ]
  },
  {
   "cell_type": "code",
   "execution_count": 40,
   "id": "f78f1e30-5447-47df-8b1e-177795b2d122",
   "metadata": {},
   "outputs": [],
   "source": [
    "top_genres = genre_counts.sort_values(ascending = False)[:50]"
   ]
  },
  {
   "cell_type": "markdown",
   "id": "dd127d95-916e-4b0c-932b-850c1cfa26d0",
   "metadata": {},
   "source": [
    "<h3>Remove Uncommon Classes</h3>"
   ]
  },
  {
   "cell_type": "code",
   "execution_count": 46,
   "id": "18e963d0-19fb-44c0-95ac-814fedaae101",
   "metadata": {},
   "outputs": [],
   "source": [
    "all_genres = all_genres[all_genres.apply(lambda s: s.genres in top_genres.index, axis = 1)]"
   ]
  },
  {
   "cell_type": "code",
   "execution_count": 51,
   "id": "987a256f-b51e-4c6f-843d-7a9c26a4bc28",
   "metadata": {},
   "outputs": [
    {
     "data": {
      "text/plain": [
       "Text(0, 0.5, 'Frequency')"
      ]
     },
     "execution_count": 51,
     "metadata": {},
     "output_type": "execute_result"
    },
    {
     "data": {
      "image/png": "[encoded data removed]",
      "text/plain": [
       "<Figure size 640x480 with 1 Axes>"
      ]
     },
     "metadata": {},
     "output_type": "display_data"
    }
   ],
   "source": [
    "# display the changed frequencies in a new histogram: \n",
    "ax = all_genres['genres'].value_counts().hist(grid=False,bins=20)\n",
    "ax.set_title(\"Frequency of frequencies \")\n",
    "ax.set_xlabel(\"Frequency\")\n",
    "ax.set_ylabel(\"Frequency\")"
   ]
  },
  {
   "cell_type": "code",
   "execution_count": 44,
   "id": "5d51adca-310c-44c6-92cc-ac10af7e9cdd",
   "metadata": {},
   "outputs": [],
   "source": [
    "x = all_genres['desc']\n",
    "y = all_genres['genres']"
   ]
  },
  {
   "cell_type": "markdown",
   "id": "c6d945bd-615b-4ef2-9b89-87859f3cef79",
   "metadata": {},
   "source": [
    "<h2>Reduce Label Dimensions</h2>"
   ]
  },
  {
   "cell_type": "code",
   "execution_count": 43,
   "id": "4ba2aedb-d101-47a6-99dd-685528e9755e",
   "metadata": {},
   "outputs": [
    {
     "data": {
      "text/plain": [
       "1179"
      ]
     },
     "execution_count": 43,
     "metadata": {},
     "output_type": "execute_result"
    }
   ],
   "source": [
    "genre_counts.shape[0]"
   ]
  },
  {
   "cell_type": "code",
   "execution_count": null,
   "id": "82ba92c5-2dfa-4a7a-9d5f-e072a5bb6c18",
   "metadata": {},
   "outputs": [],
   "source": [
    "x_test, y_test, x_train, y_train = train_test_split(x, y, random_state = 42, stratify = y) "
   ]
  },
  {
   "cell_type": "code",
   "execution_count": null,
   "id": "c9715f65-b187-41de-b4d6-0462fae5c422",
   "metadata": {},
   "outputs": [],
   "source": [
    "count_vect = CountVectorizer()\n",
    "X_counts = count_vect.fit_transform(x_test.values)\n",
    "\n",
    "X_counts.shape"
   ]
  },
  {
   "cell_type": "code",
   "execution_count": null,
   "id": "62d3819a-608d-49c0-ba7f-649a2e9b6bfb",
   "metadata": {},
   "outputs": [],
   "source": [
    "X_counts"
   ]
  },
  {
   "cell_type": "code",
   "execution_count": null,
   "id": "11063d45-909b-4ec9-a123-d6dfe6f5ee79",
   "metadata": {},
   "outputs": [],
   "source": [
    "tf = TfidfTransformer(use_idf = False)\n",
    "X_tf = tf.transform(X_counts)\n",
    "\n",
    "X_tf.shape"
   ]
  },
  {
   "cell_type": "code",
   "execution_count": null,
   "id": "456c0cb1-b164-4125-901e-6148e1d25aa6",
   "metadata": {},
   "outputs": [],
   "source": [
    "svd = TruncatedSVD(n_components = 100, random_state = 42)\n",
    "X_transform = svd.fit_transform(X_tf)"
   ]
  },
  {
   "cell_type": "code",
   "execution_count": null,
   "id": "6108a55f-8f22-497f-b4b9-9d6e8945de1a",
   "metadata": {},
   "outputs": [],
   "source": [
    "svd.explained_variance_.sum()"
   ]
  },
  {
   "cell_type": "code",
   "execution_count": null,
   "id": "6de55987-63c5-48b3-9499-81dc72d6b20f",
   "metadata": {},
   "outputs": [],
   "source": [
    "X = admit.drop(['Chance of Admit', 'admitted'], axis = 1)\n",
    "X_scaled = scale(X)\n",
    "pca = PCA(n_components = 2, random_state = 42)\n",
    "X_pca = pca.fit_transform(X)"
   ]
  },
  {
   "cell_type": "markdown",
   "id": "d42b721a-3d71-4256-a8c9-ba76e5f9fcf1",
   "metadata": {},
   "source": [
    "<h2>Text Processing</h2>"
   ]
  },
  {
   "cell_type": "code",
   "execution_count": null,
   "id": "cec2e275-e053-4518-a709-447f042568fb",
   "metadata": {},
   "outputs": [],
   "source": [
    "shuffle = StratifiedShuffleSplit(y, test_size = 0.8, random_state = 42)"
   ]
  },
  {
   "cell_type": "code",
   "execution_count": null,
   "id": "73d74a8f-328f-4141-b0ad-22f7cf97b7a1",
   "metadata": {},
   "outputs": [],
   "source": [
    "for train_index, test_index in shuffle:\n",
    "    print(\"TRAIN:\", train_index, \"TEST:\", test_index)\n",
    "    X_train, X_test = X[train_index], X[test_index]\n",
    "    y_train, y_test = y[train_index], y[test_index]"
   ]
  },
  {
   "cell_type": "code",
   "execution_count": null,
   "id": "d308d48e-889e-45d9-acfa-40038c1a452b",
   "metadata": {},
   "outputs": [],
   "source": [
    "tf = TfidfTransformer(use_idf = False).fit_transform(X_counts)\n",
    "X_tf.shape"
   ]
  },
  {
   "cell_type": "code",
   "execution_count": null,
   "id": "a372bb03-21ed-4c87-b178-ce1ea6896806",
   "metadata": {},
   "outputs": [],
   "source": []
  }
 ],
 "metadata": {
  "kernelspec": {
   "display_name": "Python 3 (ipykernel)",
   "language": "python",
   "name": "python3"
  },
  "language_info": {
   "codemirror_mode": {
    "name": "ipython",
    "version": 3
   },
   "file_extension": ".py",
   "mimetype": "text/x-python",
   "name": "python",
   "nbconvert_exporter": "python",
   "pygments_lexer": "ipython3",
   "version": "3.8.13"
  }
 },
 "nbformat": 4,
 "nbformat_minor": 5
}
